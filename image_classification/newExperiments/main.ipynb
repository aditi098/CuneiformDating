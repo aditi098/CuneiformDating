{
 "cells": [
  {
   "cell_type": "code",
   "execution_count": 1,
   "id": "4ddd219b-5398-43b2-84f8-0d84d8afb774",
   "metadata": {},
   "outputs": [],
   "source": [
    "import torch\n",
    "import torch.nn as nn\n",
    "import torch.optim as optim\n",
    "from dataloader import getDataloaders, getBalancedDataloaders\n",
    "from model_factory import ResNet101\n",
    "from experiment import train_model, test_model, train_model_with_balanced_loaders\n",
    "import json\n",
    "\n",
    "\n",
    "\n",
    "batch_size = 16\n",
    "num_epochs = 8\n",
    "lr = 0.0001\n",
    "weight_decay = 1e-1\n",
    "device = torch.device(\"cuda:0\" if torch.cuda.is_available() else \"cpu\")\n",
    "class_size = 300\n",
    "\n",
    "    \n",
    "catalogue_csv_path = '../../../full_data/expanded_catalogue.csv'\n",
    "root_dir_images='../../../full_data/segmented_images/'\n",
    "train_val_test_split_path = \"../../train_val_test_split.json\"\n",
    "batch_size = 16\n"
   ]
  },
  {
   "cell_type": "code",
   "execution_count": 2,
   "id": "d9b82345-0922-48ca-a93b-ba35795550df",
   "metadata": {},
   "outputs": [
    {
     "name": "stderr",
     "output_type": "stream",
     "text": [
      "/trunk/shared/cuneiform/CuneiformDating/image_classification/newExperiments/dataloader.py:27: DtypeWarning: Columns (4,5,45,46,62,64,68,69,70,71,73,76,77,78,79,80,81,83,84,88,90,91,93,94) have mixed types. Specify dtype option on import or set low_memory=False.\n",
      "  self.catalogue = pd.read_csv(csv_file)\n",
      "/trunk/shared/cuneiform/CuneiformDating/image_classification/newExperiments/dataloader.py:27: DtypeWarning: Columns (4,5,45,46,62,64,68,69,70,71,73,76,77,78,79,80,81,83,84,88,90,91,93,94) have mixed types. Specify dtype option on import or set low_memory=False.\n",
      "  self.catalogue = pd.read_csv(csv_file)\n",
      "/trunk/shared/cuneiform/CuneiformDating/image_classification/newExperiments/dataloader.py:27: DtypeWarning: Columns (4,5,45,46,62,64,68,69,70,71,73,76,77,78,79,80,81,83,84,88,90,91,93,94) have mixed types. Specify dtype option on import or set low_memory=False.\n",
      "  self.catalogue = pd.read_csv(csv_file)\n",
      "/trunk/shared/cuneiform/CuneiformDating/image_classification/newExperiments/dataloader.py:27: DtypeWarning: Columns (4,5,45,46,62,64,68,69,70,71,73,76,77,78,79,80,81,83,84,88,90,91,93,94) have mixed types. Specify dtype option on import or set low_memory=False.\n",
      "  self.catalogue = pd.read_csv(csv_file)\n",
      "/trunk/shared/cuneiform/CuneiformDating/image_classification/newExperiments/dataloader.py:27: DtypeWarning: Columns (4,5,45,46,62,64,68,69,70,71,73,76,77,78,79,80,81,83,84,88,90,91,93,94) have mixed types. Specify dtype option on import or set low_memory=False.\n",
      "  self.catalogue = pd.read_csv(csv_file)\n",
      "/trunk/shared/cuneiform/CuneiformDating/image_classification/newExperiments/dataloader.py:27: DtypeWarning: Columns (4,5,45,46,62,64,68,69,70,71,73,76,77,78,79,80,81,83,84,88,90,91,93,94) have mixed types. Specify dtype option on import or set low_memory=False.\n",
      "  self.catalogue = pd.read_csv(csv_file)\n",
      "/trunk/shared/cuneiform/CuneiformDating/image_classification/newExperiments/dataloader.py:27: DtypeWarning: Columns (4,5,45,46,62,64,68,69,70,71,73,76,77,78,79,80,81,83,84,88,90,91,93,94) have mixed types. Specify dtype option on import or set low_memory=False.\n",
      "  self.catalogue = pd.read_csv(csv_file)\n",
      "/trunk/shared/cuneiform/CuneiformDating/image_classification/newExperiments/dataloader.py:27: DtypeWarning: Columns (4,5,45,46,62,64,68,69,70,71,73,76,77,78,79,80,81,83,84,88,90,91,93,94) have mixed types. Specify dtype option on import or set low_memory=False.\n",
      "  self.catalogue = pd.read_csv(csv_file)\n",
      "/trunk/shared/cuneiform/CuneiformDating/image_classification/newExperiments/dataloader.py:27: DtypeWarning: Columns (4,5,45,46,62,64,68,69,70,71,73,76,77,78,79,80,81,83,84,88,90,91,93,94) have mixed types. Specify dtype option on import or set low_memory=False.\n",
      "  self.catalogue = pd.read_csv(csv_file)\n",
      "/trunk/shared/cuneiform/CuneiformDating/image_classification/newExperiments/dataloader.py:27: DtypeWarning: Columns (4,5,45,46,62,64,68,69,70,71,73,76,77,78,79,80,81,83,84,88,90,91,93,94) have mixed types. Specify dtype option on import or set low_memory=False.\n",
      "  self.catalogue = pd.read_csv(csv_file)\n",
      "/trunk/shared/cuneiform/CuneiformDating/image_classification/newExperiments/dataloader.py:27: DtypeWarning: Columns (4,5,45,46,62,64,68,69,70,71,73,76,77,78,79,80,81,83,84,88,90,91,93,94) have mixed types. Specify dtype option on import or set low_memory=False.\n",
      "  self.catalogue = pd.read_csv(csv_file)\n",
      "/trunk/shared/cuneiform/CuneiformDating/image_classification/newExperiments/dataloader.py:27: DtypeWarning: Columns (4,5,45,46,62,64,68,69,70,71,73,76,77,78,79,80,81,83,84,88,90,91,93,94) have mixed types. Specify dtype option on import or set low_memory=False.\n",
      "  self.catalogue = pd.read_csv(csv_file)\n"
     ]
    },
    {
     "name": "stdout",
     "output_type": "stream",
     "text": [
      "10 338 17 17\n"
     ]
    }
   ],
   "source": [
    "#balanced data experiment\n",
    "(train_dataset_loaders, val_dataset_loader, test_dataset_loader) = getBalancedDataloaders(catalogue_csv_path, root_dir_images, train_val_test_split_path, batch_size, class_size, 10)\n",
    "print(len(train_dataset_loaders), len(train_dataset_loaders[0]) ,len(val_dataset_loader), len(test_dataset_loader))"
   ]
  },
  {
   "cell_type": "code",
   "execution_count": 3,
   "id": "bb0b84e1-8d93-414a-9723-74e891ff6a45",
   "metadata": {},
   "outputs": [
    {
     "name": "stdout",
     "output_type": "stream",
     "text": [
      "Epoch 1/8\n",
      "----------------------------------------------------------------------------------------------------\n"
     ]
    },
    {
     "name": "stderr",
     "output_type": "stream",
     "text": [
      "338it [00:53,  6.35it/s]\n"
     ]
    },
    {
     "name": "stdout",
     "output_type": "stream",
     "text": [
      "Train Loss: 37.5158 Train Accuracy:  0.2896296296296296\n"
     ]
    },
    {
     "name": "stderr",
     "output_type": "stream",
     "text": [
      "17it [00:01, 12.50it/s]\n"
     ]
    },
    {
     "name": "stdout",
     "output_type": "stream",
     "text": [
      "Val Loss: 28.4444 Val Accuracy:  0.4740740740740741\n",
      "Epoch 2/8\n",
      "----------------------------------------------------------------------------------------------------\n"
     ]
    },
    {
     "name": "stderr",
     "output_type": "stream",
     "text": [
      "338it [00:53,  6.36it/s]\n"
     ]
    },
    {
     "name": "stdout",
     "output_type": "stream",
     "text": [
      "Train Loss: 28.0658 Train Accuracy:  0.46796296296296297\n"
     ]
    },
    {
     "name": "stderr",
     "output_type": "stream",
     "text": [
      "17it [00:01, 12.46it/s]\n"
     ]
    },
    {
     "name": "stdout",
     "output_type": "stream",
     "text": [
      "Val Loss: 24.2889 Val Accuracy:  0.5259259259259259\n",
      "Epoch 3/8\n",
      "----------------------------------------------------------------------------------------------------\n"
     ]
    },
    {
     "name": "stderr",
     "output_type": "stream",
     "text": [
      "338it [00:54,  6.23it/s]\n"
     ]
    },
    {
     "name": "stdout",
     "output_type": "stream",
     "text": [
      "Train Loss: 23.4297 Train Accuracy:  0.5561111111111111\n"
     ]
    },
    {
     "name": "stderr",
     "output_type": "stream",
     "text": [
      "17it [00:01, 12.64it/s]\n"
     ]
    },
    {
     "name": "stdout",
     "output_type": "stream",
     "text": [
      "Val Loss: 24.4679 Val Accuracy:  0.5518518518518518\n",
      "Epoch 4/8\n",
      "----------------------------------------------------------------------------------------------------\n"
     ]
    },
    {
     "name": "stderr",
     "output_type": "stream",
     "text": [
      "338it [00:54,  6.21it/s]\n"
     ]
    },
    {
     "name": "stdout",
     "output_type": "stream",
     "text": [
      "Train Loss: 20.0880 Train Accuracy:  0.6177777777777778\n"
     ]
    },
    {
     "name": "stderr",
     "output_type": "stream",
     "text": [
      "17it [00:01, 12.48it/s]\n"
     ]
    },
    {
     "name": "stdout",
     "output_type": "stream",
     "text": [
      "Val Loss: 20.6090 Val Accuracy:  0.6259259259259259\n",
      "Epoch 5/8\n",
      "----------------------------------------------------------------------------------------------------\n"
     ]
    },
    {
     "name": "stderr",
     "output_type": "stream",
     "text": [
      "338it [00:54,  6.19it/s]\n"
     ]
    },
    {
     "name": "stdout",
     "output_type": "stream",
     "text": [
      "Train Loss: 17.9897 Train Accuracy:  0.647962962962963\n"
     ]
    },
    {
     "name": "stderr",
     "output_type": "stream",
     "text": [
      "17it [00:01, 12.26it/s]\n"
     ]
    },
    {
     "name": "stdout",
     "output_type": "stream",
     "text": [
      "Val Loss: 21.9503 Val Accuracy:  0.6481481481481481\n",
      "Epoch 6/8\n",
      "----------------------------------------------------------------------------------------------------\n"
     ]
    },
    {
     "name": "stderr",
     "output_type": "stream",
     "text": [
      "338it [00:54,  6.24it/s]\n"
     ]
    },
    {
     "name": "stdout",
     "output_type": "stream",
     "text": [
      "Train Loss: 16.2687 Train Accuracy:  0.6824074074074075\n"
     ]
    },
    {
     "name": "stderr",
     "output_type": "stream",
     "text": [
      "17it [00:01, 12.06it/s]\n"
     ]
    },
    {
     "name": "stdout",
     "output_type": "stream",
     "text": [
      "Val Loss: 20.3445 Val Accuracy:  0.6259259259259259\n",
      "Epoch 7/8\n",
      "----------------------------------------------------------------------------------------------------\n"
     ]
    },
    {
     "name": "stderr",
     "output_type": "stream",
     "text": [
      "338it [00:54,  6.25it/s]\n"
     ]
    },
    {
     "name": "stdout",
     "output_type": "stream",
     "text": [
      "Train Loss: 15.3552 Train Accuracy:  0.7096296296296296\n"
     ]
    },
    {
     "name": "stderr",
     "output_type": "stream",
     "text": [
      "17it [00:01, 12.94it/s]\n"
     ]
    },
    {
     "name": "stdout",
     "output_type": "stream",
     "text": [
      "Val Loss: 17.0279 Val Accuracy:  0.674074074074074\n",
      "Epoch 8/8\n",
      "----------------------------------------------------------------------------------------------------\n"
     ]
    },
    {
     "name": "stderr",
     "output_type": "stream",
     "text": [
      "338it [00:53,  6.36it/s]\n"
     ]
    },
    {
     "name": "stdout",
     "output_type": "stream",
     "text": [
      "Train Loss: 14.0507 Train Accuracy:  0.7272222222222222\n"
     ]
    },
    {
     "name": "stderr",
     "output_type": "stream",
     "text": [
      "17it [00:01, 13.07it/s]\n"
     ]
    },
    {
     "name": "stdout",
     "output_type": "stream",
     "text": [
      "Val Loss: 22.0652 Val Accuracy:  0.6148148148148148\n"
     ]
    },
    {
     "name": "stderr",
     "output_type": "stream",
     "text": [
      "17it [00:01, 12.89it/s]"
     ]
    },
    {
     "name": "stdout",
     "output_type": "stream",
     "text": [
      "Test Loss: 26.3673 Test Accuracy:  0.6148148148148148\n"
     ]
    },
    {
     "name": "stderr",
     "output_type": "stream",
     "text": [
      "\n"
     ]
    }
   ],
   "source": [
    "resnet101_model = ResNet101().to(device)\n",
    "criterion = nn.CrossEntropyLoss()\n",
    "optimizer = torch.optim.AdamW(resnet101_model.parameters(), lr=lr, weight_decay=weight_decay)\n",
    "\n",
    "resnet101_model = train_model_with_balanced_loaders(resnet101_model, train_dataset_loaders, val_dataset_loader, optimizer, num_epochs, criterion, device)\n",
    "test_model(resnet101_model, test_dataset_loader, optimizer, criterion, device)"
   ]
  },
  {
   "cell_type": "code",
   "execution_count": 4,
   "id": "6b12259c-9432-49be-b368-5dc36ec38bea",
   "metadata": {},
   "outputs": [
    {
     "name": "stdout",
     "output_type": "stream",
     "text": [
      "Epoch 1/20\n",
      "----------------------------------------------------------------------------------------------------\n"
     ]
    },
    {
     "name": "stderr",
     "output_type": "stream",
     "text": [
      "338it [00:52,  6.49it/s]\n"
     ]
    },
    {
     "name": "stdout",
     "output_type": "stream",
     "text": [
      "Train Loss: 36.8681 Train Accuracy:  0.3025925925925926\n"
     ]
    },
    {
     "name": "stderr",
     "output_type": "stream",
     "text": [
      "17it [00:01, 13.01it/s]\n"
     ]
    },
    {
     "name": "stdout",
     "output_type": "stream",
     "text": [
      "Val Loss: 26.0157 Val Accuracy:  0.4888888888888889\n",
      "Epoch 2/20\n",
      "----------------------------------------------------------------------------------------------------\n"
     ]
    },
    {
     "name": "stderr",
     "output_type": "stream",
     "text": [
      "338it [01:26,  3.92it/s]\n"
     ]
    },
    {
     "name": "stdout",
     "output_type": "stream",
     "text": [
      "Train Loss: 26.8474 Train Accuracy:  0.49648148148148147\n"
     ]
    },
    {
     "name": "stderr",
     "output_type": "stream",
     "text": [
      "17it [00:01, 13.15it/s]\n"
     ]
    },
    {
     "name": "stdout",
     "output_type": "stream",
     "text": [
      "Val Loss: 23.1999 Val Accuracy:  0.5592592592592592\n",
      "Epoch 3/20\n",
      "----------------------------------------------------------------------------------------------------\n"
     ]
    },
    {
     "name": "stderr",
     "output_type": "stream",
     "text": [
      "338it [01:20,  4.19it/s]\n"
     ]
    },
    {
     "name": "stdout",
     "output_type": "stream",
     "text": [
      "Train Loss: 21.8184 Train Accuracy:  0.582037037037037\n"
     ]
    },
    {
     "name": "stderr",
     "output_type": "stream",
     "text": [
      "17it [00:01, 13.10it/s]\n"
     ]
    },
    {
     "name": "stdout",
     "output_type": "stream",
     "text": [
      "Val Loss: 22.4939 Val Accuracy:  0.5555555555555556\n",
      "Epoch 4/20\n",
      "----------------------------------------------------------------------------------------------------\n"
     ]
    },
    {
     "name": "stderr",
     "output_type": "stream",
     "text": [
      "338it [01:19,  4.27it/s]\n"
     ]
    },
    {
     "name": "stdout",
     "output_type": "stream",
     "text": [
      "Train Loss: 19.3392 Train Accuracy:  0.6270370370370371\n"
     ]
    },
    {
     "name": "stderr",
     "output_type": "stream",
     "text": [
      "17it [00:01, 13.00it/s]\n"
     ]
    },
    {
     "name": "stdout",
     "output_type": "stream",
     "text": [
      "Val Loss: 20.0146 Val Accuracy:  0.6\n",
      "Epoch 5/20\n",
      "----------------------------------------------------------------------------------------------------\n"
     ]
    },
    {
     "name": "stderr",
     "output_type": "stream",
     "text": [
      "338it [01:17,  4.37it/s]\n"
     ]
    },
    {
     "name": "stdout",
     "output_type": "stream",
     "text": [
      "Train Loss: 17.4133 Train Accuracy:  0.6722222222222223\n"
     ]
    },
    {
     "name": "stderr",
     "output_type": "stream",
     "text": [
      "17it [00:01, 13.02it/s]\n"
     ]
    },
    {
     "name": "stdout",
     "output_type": "stream",
     "text": [
      "Val Loss: 18.0312 Val Accuracy:  0.6148148148148148\n",
      "Epoch 6/20\n",
      "----------------------------------------------------------------------------------------------------\n"
     ]
    },
    {
     "name": "stderr",
     "output_type": "stream",
     "text": [
      "338it [01:12,  4.67it/s]\n"
     ]
    },
    {
     "name": "stdout",
     "output_type": "stream",
     "text": [
      "Train Loss: 15.3985 Train Accuracy:  0.6988888888888889\n"
     ]
    },
    {
     "name": "stderr",
     "output_type": "stream",
     "text": [
      "17it [00:01, 12.81it/s]\n"
     ]
    },
    {
     "name": "stdout",
     "output_type": "stream",
     "text": [
      "Val Loss: 17.4204 Val Accuracy:  0.6703703703703704\n",
      "Epoch 7/20\n",
      "----------------------------------------------------------------------------------------------------\n"
     ]
    },
    {
     "name": "stderr",
     "output_type": "stream",
     "text": [
      "338it [01:08,  4.96it/s]\n"
     ]
    },
    {
     "name": "stdout",
     "output_type": "stream",
     "text": [
      "Train Loss: 14.7687 Train Accuracy:  0.707962962962963\n"
     ]
    },
    {
     "name": "stderr",
     "output_type": "stream",
     "text": [
      "17it [00:01, 12.86it/s]\n"
     ]
    },
    {
     "name": "stdout",
     "output_type": "stream",
     "text": [
      "Val Loss: 17.5262 Val Accuracy:  0.6851851851851852\n",
      "Epoch 8/20\n",
      "----------------------------------------------------------------------------------------------------\n"
     ]
    },
    {
     "name": "stderr",
     "output_type": "stream",
     "text": [
      "338it [01:06,  5.08it/s]\n"
     ]
    },
    {
     "name": "stdout",
     "output_type": "stream",
     "text": [
      "Train Loss: 13.6931 Train Accuracy:  0.7311111111111112\n"
     ]
    },
    {
     "name": "stderr",
     "output_type": "stream",
     "text": [
      "17it [00:01, 13.10it/s]\n"
     ]
    },
    {
     "name": "stdout",
     "output_type": "stream",
     "text": [
      "Val Loss: 17.5024 Val Accuracy:  0.6777777777777778\n",
      "Epoch 9/20\n",
      "----------------------------------------------------------------------------------------------------\n"
     ]
    },
    {
     "name": "stderr",
     "output_type": "stream",
     "text": [
      "338it [01:05,  5.19it/s]\n"
     ]
    },
    {
     "name": "stdout",
     "output_type": "stream",
     "text": [
      "Train Loss: 13.1703 Train Accuracy:  0.7424074074074074\n"
     ]
    },
    {
     "name": "stderr",
     "output_type": "stream",
     "text": [
      "17it [00:01, 13.01it/s]\n"
     ]
    },
    {
     "name": "stdout",
     "output_type": "stream",
     "text": [
      "Val Loss: 17.9016 Val Accuracy:  0.662962962962963\n",
      "Epoch 10/20\n",
      "----------------------------------------------------------------------------------------------------\n"
     ]
    },
    {
     "name": "stderr",
     "output_type": "stream",
     "text": [
      "277it [00:53,  5.19it/s]\n"
     ]
    },
    {
     "ename": "FileNotFoundError",
     "evalue": "[Errno 2] No such file or directory: '../../../full_data/segmented_images/P105907.jpg'",
     "output_type": "error",
     "traceback": [
      "\u001b[0;31m---------------------------------------------------------------------------\u001b[0m",
      "\u001b[0;31mFileNotFoundError\u001b[0m                         Traceback (most recent call last)",
      "Cell \u001b[0;32mIn[4], line 5\u001b[0m\n\u001b[1;32m      2\u001b[0m criterion \u001b[38;5;241m=\u001b[39m nn\u001b[38;5;241m.\u001b[39mCrossEntropyLoss()\n\u001b[1;32m      3\u001b[0m optimizer \u001b[38;5;241m=\u001b[39m torch\u001b[38;5;241m.\u001b[39moptim\u001b[38;5;241m.\u001b[39mAdamW(resnet101_model\u001b[38;5;241m.\u001b[39mparameters(), lr\u001b[38;5;241m=\u001b[39mlr, weight_decay\u001b[38;5;241m=\u001b[39mweight_decay)\n\u001b[0;32m----> 5\u001b[0m resnet101_model \u001b[38;5;241m=\u001b[39m train_model_with_balanced_loaders(resnet101_model, train_dataset_loaders, val_dataset_loader, optimizer, \u001b[38;5;241m20\u001b[39m, criterion)\n\u001b[1;32m      6\u001b[0m test_model(resnet101_model, test_dataset_loader, optimizer, criterion)\n",
      "File \u001b[0;32m/trunk/shared/cuneiform/CuneiformDating/image_classification/newExperiments/experiment.py:99\u001b[0m, in \u001b[0;36mtrain_model_with_balanced_loaders\u001b[0;34m(model, train_data_loaders, val_data_loader, optimizer, num_epochs, criterion)\u001b[0m\n\u001b[1;32m     96\u001b[0m train_true_labels \u001b[38;5;241m=\u001b[39m []\n\u001b[1;32m     97\u001b[0m train_pred_labels \u001b[38;5;241m=\u001b[39m []\n\u001b[0;32m---> 99\u001b[0m \u001b[38;5;28;01mfor\u001b[39;00m idx, sample \u001b[38;5;129;01min\u001b[39;00m tqdm\u001b[38;5;241m.\u001b[39mtqdm(\u001b[38;5;28menumerate\u001b[39m(train_data_loader)):\n\u001b[1;32m    100\u001b[0m     inputs \u001b[38;5;241m=\u001b[39m sample[\u001b[38;5;124m\"\u001b[39m\u001b[38;5;124mimage\u001b[39m\u001b[38;5;124m\"\u001b[39m]\n\u001b[1;32m    101\u001b[0m     labels \u001b[38;5;241m=\u001b[39m sample[\u001b[38;5;124m\"\u001b[39m\u001b[38;5;124mlabel\u001b[39m\u001b[38;5;124m\"\u001b[39m]\n",
      "File \u001b[0;32m~/miniconda3/envs/cuneiform/lib/python3.11/site-packages/tqdm/std.py:1178\u001b[0m, in \u001b[0;36mtqdm.__iter__\u001b[0;34m(self)\u001b[0m\n\u001b[1;32m   1175\u001b[0m time \u001b[38;5;241m=\u001b[39m \u001b[38;5;28mself\u001b[39m\u001b[38;5;241m.\u001b[39m_time\n\u001b[1;32m   1177\u001b[0m \u001b[38;5;28;01mtry\u001b[39;00m:\n\u001b[0;32m-> 1178\u001b[0m     \u001b[38;5;28;01mfor\u001b[39;00m obj \u001b[38;5;129;01min\u001b[39;00m iterable:\n\u001b[1;32m   1179\u001b[0m         \u001b[38;5;28;01myield\u001b[39;00m obj\n\u001b[1;32m   1180\u001b[0m         \u001b[38;5;66;03m# Update and possibly print the progressbar.\u001b[39;00m\n\u001b[1;32m   1181\u001b[0m         \u001b[38;5;66;03m# Note: does not call self.update(1) for speed optimisation.\u001b[39;00m\n",
      "File \u001b[0;32m~/miniconda3/envs/cuneiform/lib/python3.11/site-packages/torch/utils/data/dataloader.py:633\u001b[0m, in \u001b[0;36m_BaseDataLoaderIter.__next__\u001b[0;34m(self)\u001b[0m\n\u001b[1;32m    630\u001b[0m \u001b[38;5;28;01mif\u001b[39;00m \u001b[38;5;28mself\u001b[39m\u001b[38;5;241m.\u001b[39m_sampler_iter \u001b[38;5;129;01mis\u001b[39;00m \u001b[38;5;28;01mNone\u001b[39;00m:\n\u001b[1;32m    631\u001b[0m     \u001b[38;5;66;03m# TODO(https://github.com/pytorch/pytorch/issues/76750)\u001b[39;00m\n\u001b[1;32m    632\u001b[0m     \u001b[38;5;28mself\u001b[39m\u001b[38;5;241m.\u001b[39m_reset()  \u001b[38;5;66;03m# type: ignore[call-arg]\u001b[39;00m\n\u001b[0;32m--> 633\u001b[0m data \u001b[38;5;241m=\u001b[39m \u001b[38;5;28mself\u001b[39m\u001b[38;5;241m.\u001b[39m_next_data()\n\u001b[1;32m    634\u001b[0m \u001b[38;5;28mself\u001b[39m\u001b[38;5;241m.\u001b[39m_num_yielded \u001b[38;5;241m+\u001b[39m\u001b[38;5;241m=\u001b[39m \u001b[38;5;241m1\u001b[39m\n\u001b[1;32m    635\u001b[0m \u001b[38;5;28;01mif\u001b[39;00m \u001b[38;5;28mself\u001b[39m\u001b[38;5;241m.\u001b[39m_dataset_kind \u001b[38;5;241m==\u001b[39m _DatasetKind\u001b[38;5;241m.\u001b[39mIterable \u001b[38;5;129;01mand\u001b[39;00m \\\n\u001b[1;32m    636\u001b[0m         \u001b[38;5;28mself\u001b[39m\u001b[38;5;241m.\u001b[39m_IterableDataset_len_called \u001b[38;5;129;01mis\u001b[39;00m \u001b[38;5;129;01mnot\u001b[39;00m \u001b[38;5;28;01mNone\u001b[39;00m \u001b[38;5;129;01mand\u001b[39;00m \\\n\u001b[1;32m    637\u001b[0m         \u001b[38;5;28mself\u001b[39m\u001b[38;5;241m.\u001b[39m_num_yielded \u001b[38;5;241m>\u001b[39m \u001b[38;5;28mself\u001b[39m\u001b[38;5;241m.\u001b[39m_IterableDataset_len_called:\n",
      "File \u001b[0;32m~/miniconda3/envs/cuneiform/lib/python3.11/site-packages/torch/utils/data/dataloader.py:677\u001b[0m, in \u001b[0;36m_SingleProcessDataLoaderIter._next_data\u001b[0;34m(self)\u001b[0m\n\u001b[1;32m    675\u001b[0m \u001b[38;5;28;01mdef\u001b[39;00m \u001b[38;5;21m_next_data\u001b[39m(\u001b[38;5;28mself\u001b[39m):\n\u001b[1;32m    676\u001b[0m     index \u001b[38;5;241m=\u001b[39m \u001b[38;5;28mself\u001b[39m\u001b[38;5;241m.\u001b[39m_next_index()  \u001b[38;5;66;03m# may raise StopIteration\u001b[39;00m\n\u001b[0;32m--> 677\u001b[0m     data \u001b[38;5;241m=\u001b[39m \u001b[38;5;28mself\u001b[39m\u001b[38;5;241m.\u001b[39m_dataset_fetcher\u001b[38;5;241m.\u001b[39mfetch(index)  \u001b[38;5;66;03m# may raise StopIteration\u001b[39;00m\n\u001b[1;32m    678\u001b[0m     \u001b[38;5;28;01mif\u001b[39;00m \u001b[38;5;28mself\u001b[39m\u001b[38;5;241m.\u001b[39m_pin_memory:\n\u001b[1;32m    679\u001b[0m         data \u001b[38;5;241m=\u001b[39m _utils\u001b[38;5;241m.\u001b[39mpin_memory\u001b[38;5;241m.\u001b[39mpin_memory(data, \u001b[38;5;28mself\u001b[39m\u001b[38;5;241m.\u001b[39m_pin_memory_device)\n",
      "File \u001b[0;32m~/miniconda3/envs/cuneiform/lib/python3.11/site-packages/torch/utils/data/_utils/fetch.py:51\u001b[0m, in \u001b[0;36m_MapDatasetFetcher.fetch\u001b[0;34m(self, possibly_batched_index)\u001b[0m\n\u001b[1;32m     49\u001b[0m         data \u001b[38;5;241m=\u001b[39m \u001b[38;5;28mself\u001b[39m\u001b[38;5;241m.\u001b[39mdataset\u001b[38;5;241m.\u001b[39m__getitems__(possibly_batched_index)\n\u001b[1;32m     50\u001b[0m     \u001b[38;5;28;01melse\u001b[39;00m:\n\u001b[0;32m---> 51\u001b[0m         data \u001b[38;5;241m=\u001b[39m [\u001b[38;5;28mself\u001b[39m\u001b[38;5;241m.\u001b[39mdataset[idx] \u001b[38;5;28;01mfor\u001b[39;00m idx \u001b[38;5;129;01min\u001b[39;00m possibly_batched_index]\n\u001b[1;32m     52\u001b[0m \u001b[38;5;28;01melse\u001b[39;00m:\n\u001b[1;32m     53\u001b[0m     data \u001b[38;5;241m=\u001b[39m \u001b[38;5;28mself\u001b[39m\u001b[38;5;241m.\u001b[39mdataset[possibly_batched_index]\n",
      "File \u001b[0;32m~/miniconda3/envs/cuneiform/lib/python3.11/site-packages/torch/utils/data/_utils/fetch.py:51\u001b[0m, in \u001b[0;36m<listcomp>\u001b[0;34m(.0)\u001b[0m\n\u001b[1;32m     49\u001b[0m         data \u001b[38;5;241m=\u001b[39m \u001b[38;5;28mself\u001b[39m\u001b[38;5;241m.\u001b[39mdataset\u001b[38;5;241m.\u001b[39m__getitems__(possibly_batched_index)\n\u001b[1;32m     50\u001b[0m     \u001b[38;5;28;01melse\u001b[39;00m:\n\u001b[0;32m---> 51\u001b[0m         data \u001b[38;5;241m=\u001b[39m [\u001b[38;5;28mself\u001b[39m\u001b[38;5;241m.\u001b[39mdataset[idx] \u001b[38;5;28;01mfor\u001b[39;00m idx \u001b[38;5;129;01min\u001b[39;00m possibly_batched_index]\n\u001b[1;32m     52\u001b[0m \u001b[38;5;28;01melse\u001b[39;00m:\n\u001b[1;32m     53\u001b[0m     data \u001b[38;5;241m=\u001b[39m \u001b[38;5;28mself\u001b[39m\u001b[38;5;241m.\u001b[39mdataset[possibly_batched_index]\n",
      "File \u001b[0;32m/trunk/shared/cuneiform/CuneiformDating/image_classification/newExperiments/dataloader.py:45\u001b[0m, in \u001b[0;36mCuneiformDataset.__getitem__\u001b[0;34m(self, idx)\u001b[0m\n\u001b[1;32m     41\u001b[0m image_name \u001b[38;5;241m=\u001b[39m \u001b[38;5;124m\"\u001b[39m\u001b[38;5;124mP\u001b[39m\u001b[38;5;124m\"\u001b[39m\u001b[38;5;241m+\u001b[39m \u001b[38;5;28mstr\u001b[39m(pid)\u001b[38;5;241m.\u001b[39mzfill(\u001b[38;5;241m6\u001b[39m)\u001b[38;5;241m+\u001b[39m\u001b[38;5;124m\"\u001b[39m\u001b[38;5;124m.jpg\u001b[39m\u001b[38;5;124m\"\u001b[39m\n\u001b[1;32m     42\u001b[0m image_path \u001b[38;5;241m=\u001b[39m os\u001b[38;5;241m.\u001b[39mpath\u001b[38;5;241m.\u001b[39mjoin(\u001b[38;5;28mself\u001b[39m\u001b[38;5;241m.\u001b[39mroot_dir,image_name)\n\u001b[0;32m---> 45\u001b[0m image \u001b[38;5;241m=\u001b[39m Image\u001b[38;5;241m.\u001b[39mopen(image_path)\n\u001b[1;32m     46\u001b[0m period \u001b[38;5;241m=\u001b[39m \u001b[38;5;28mself\u001b[39m\u001b[38;5;241m.\u001b[39mcatalogue\u001b[38;5;241m.\u001b[39mloc[\u001b[38;5;28mself\u001b[39m\u001b[38;5;241m.\u001b[39mcatalogue[\u001b[38;5;124m\"\u001b[39m\u001b[38;5;124mid\u001b[39m\u001b[38;5;124m\"\u001b[39m] \u001b[38;5;241m==\u001b[39m pid][\u001b[38;5;124m\"\u001b[39m\u001b[38;5;124mperiod.period\u001b[39m\u001b[38;5;124m\"\u001b[39m]\u001b[38;5;241m.\u001b[39mitem()\n\u001b[1;32m     47\u001b[0m label \u001b[38;5;241m=\u001b[39m period_to_label[period]\n",
      "File \u001b[0;32m~/miniconda3/envs/cuneiform/lib/python3.11/site-packages/PIL/Image.py:3236\u001b[0m, in \u001b[0;36mopen\u001b[0;34m(fp, mode, formats)\u001b[0m\n\u001b[1;32m   3233\u001b[0m     filename \u001b[38;5;241m=\u001b[39m fp\n\u001b[1;32m   3235\u001b[0m \u001b[38;5;28;01mif\u001b[39;00m filename:\n\u001b[0;32m-> 3236\u001b[0m     fp \u001b[38;5;241m=\u001b[39m builtins\u001b[38;5;241m.\u001b[39mopen(filename, \u001b[38;5;124m\"\u001b[39m\u001b[38;5;124mrb\u001b[39m\u001b[38;5;124m\"\u001b[39m)\n\u001b[1;32m   3237\u001b[0m     exclusive_fp \u001b[38;5;241m=\u001b[39m \u001b[38;5;28;01mTrue\u001b[39;00m\n\u001b[1;32m   3239\u001b[0m \u001b[38;5;28;01mtry\u001b[39;00m:\n",
      "\u001b[0;31mFileNotFoundError\u001b[0m: [Errno 2] No such file or directory: '../../../full_data/segmented_images/P105907.jpg'"
     ]
    }
   ],
   "source": [
    "resnet101_model = ResNet101().to(device)\n",
    "criterion = nn.CrossEntropyLoss()\n",
    "optimizer = torch.optim.AdamW(resnet101_model.parameters(), lr=lr, weight_decay=weight_decay)\n",
    "\n",
    "resnet101_model = train_model_with_balanced_loaders(resnet101_model, train_dataset_loaders, val_dataset_loader, optimizer, num_epochs, criterion, device)\n",
    "test_model(resnet101_model, test_dataset_loader, optimizer, criterion, device)"
   ]
  },
  {
   "cell_type": "code",
   "execution_count": 6,
   "id": "91c02f98-3766-45cb-8a9f-b998f0290c85",
   "metadata": {},
   "outputs": [
    {
     "name": "stderr",
     "output_type": "stream",
     "text": [
      "17it [00:01, 10.43it/s]"
     ]
    },
    {
     "name": "stdout",
     "output_type": "stream",
     "text": [
      "Test Loss: 24.8103 Test Accuracy:  0.5666666666666667\n"
     ]
    },
    {
     "name": "stderr",
     "output_type": "stream",
     "text": [
      "\n"
     ]
    }
   ],
   "source": [
    "test_model(resnet101_model, test_dataset_loader, optimizer, criterion)"
   ]
  },
  {
   "cell_type": "code",
   "execution_count": null,
   "id": "b00225ce-26a3-44d1-a7ac-23bf85fb7652",
   "metadata": {},
   "outputs": [],
   "source": []
  }
 ],
 "metadata": {
  "kernelspec": {
   "display_name": "Python 3 (ipykernel)",
   "language": "python",
   "name": "python3"
  },
  "language_info": {
   "codemirror_mode": {
    "name": "ipython",
    "version": 3
   },
   "file_extension": ".py",
   "mimetype": "text/x-python",
   "name": "python",
   "nbconvert_exporter": "python",
   "pygments_lexer": "ipython3",
   "version": "3.11.3"
  }
 },
 "nbformat": 4,
 "nbformat_minor": 5
}
