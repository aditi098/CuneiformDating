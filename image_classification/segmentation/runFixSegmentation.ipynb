{
 "cells": [
  {
   "cell_type": "code",
   "execution_count": 1,
   "id": "f81fdefd",
   "metadata": {},
   "outputs": [],
   "source": [
    "import matplotlib.pyplot as plt\n",
    "from PIL import Image\n",
    "import json\n",
    "import random\n",
    "import cv2\n",
    "import pickle\n",
    "import numpy as np\n",
    "from segment_anything import SamPredictor, sam_model_registry, SamAutomaticMaskGenerator\n",
    "import torch\n",
    "import tqdm\n",
    "device = \"cuda:0\" if torch.cuda.is_available() else \"cpu\"\n",
    "random.seed(41)"
   ]
  },
  {
   "cell_type": "code",
   "execution_count": 2,
   "id": "32d2503a",
   "metadata": {},
   "outputs": [],
   "source": [
    "max_dim = 2000\n",
    "min_dim = 600\n",
    "\n",
    "def getFrontCutout(masks,image):\n",
    "    frontMask = None\n",
    "    if len(masks) == 0:\n",
    "        return frontMask\n",
    "    elif len(masks) == 1:\n",
    "        frontMask = masks[0]\n",
    "    elif len(masks) > 2:\n",
    "        if masks[0]['bbox'][0] <=5 and masks[0]['bbox'][1] <=5:\n",
    "            #masks[0] is background, choose from 1 or 2\n",
    "            if masks[1]['area'] > masks[2]['area']*1.5: #masks[1] is much bigger than masks[2]\n",
    "                frontMask = masks[1]\n",
    "            elif masks[1]['bbox'][1] < masks[2]['bbox'][1]:  # ycoordinate of front mask will be smaller\n",
    "                frontMask = masks[1]\n",
    "            else:\n",
    "                frontMask = masks[2]\n",
    "\n",
    "        else:\n",
    "            frontMask = masks[0]\n",
    "    else:\n",
    "        if masks[0]['bbox'][0] <=5 and masks[0]['bbox'][1] <=5:\n",
    "            frontMask = masks[1]\n",
    "        else:\n",
    "            frontMask = masks[0]\n",
    "    x,y,w,h = frontMask['bbox']\n",
    "    x,y,w,h = int(x), int(y), int(w), int(h)\n",
    "    cutout = image[y:y+h, x:x+w]\n",
    "    return cutout\n",
    "\n",
    "def resizeImage(image):\n",
    "    \n",
    "    while image.shape[0]/max_dim > 1 or image.shape[1]/max_dim > 1:\n",
    "        dim = (int(image.shape[1]/2), int(image.shape[0]/2))\n",
    "        image = cv2.resize(image, dim, interpolation = cv2.INTER_AREA)\n",
    "    return image \n",
    "\n",
    "\n",
    "def show_anns(anns):\n",
    "    if len(anns) == 0:\n",
    "        return\n",
    "    sorted_anns = sorted(anns, key=(lambda x: x['area']), reverse=True)\n",
    "    ax = plt.gca()\n",
    "    ax.set_autoscale_on(False)\n",
    "\n",
    "    img = np.ones((np.array(sorted_anns[0]['segmentation']).shape[0], np.array(sorted_anns[0]['segmentation']).shape[1], 4))\n",
    "    img[:,:,3] = 0\n",
    "    for ann in sorted_anns:\n",
    "        m = ann['segmentation']\n",
    "        color_mask = np.concatenate([np.random.random(3), [0.35]])\n",
    "        img[m] = color_mask\n",
    "    ax.imshow(img)\n",
    "\n"
   ]
  },
  {
   "cell_type": "code",
   "execution_count": 3,
   "id": "453950ef",
   "metadata": {},
   "outputs": [],
   "source": [
    "#try segmentation on single image\n",
    "sam_checkpoint = \"sam_vit_h_4b8939.pth\"\n",
    "model_type = \"vit_h\"\n",
    "\n",
    "sam = sam_model_registry[model_type](checkpoint=sam_checkpoint)\n",
    "sam.to(device=device)\n",
    "\n",
    "mask_generator = SamAutomaticMaskGenerator(\n",
    "    model=sam,\n",
    "    points_per_side=5,\n",
    "    pred_iou_thresh=0.94,\n",
    "    stability_score_thresh=0.90,\n",
    "    crop_n_layers=1,\n",
    "    crop_n_points_downscale_factor=2,\n",
    "    min_mask_region_area=10000,  # Requires open-cv to run post-processing\n",
    ")"
   ]
  },
  {
   "cell_type": "code",
   "execution_count": 4,
   "id": "9e41701e",
   "metadata": {},
   "outputs": [
    {
     "data": {
      "text/plain": [
       "56694"
      ]
     },
     "execution_count": 4,
     "metadata": {},
     "output_type": "execute_result"
    }
   ],
   "source": [
    "with open('../../../full_data/all_ids.json', 'r') as f:\n",
    "    all_ids = json.load(f)\n",
    "    \n",
    "len(all_ids)"
   ]
  },
  {
   "cell_type": "code",
   "execution_count": null,
   "id": "9159f60f",
   "metadata": {
    "scrolled": true
   },
   "outputs": [
    {
     "name": "stderr",
     "output_type": "stream",
     "text": [
      " 67%|███████████████████████████████████████████████████████████████████████████████████████████████████████████████████▎                                                         | 200/300 [06:36<07:32,  4.53s/it]"
     ]
    }
   ],
   "source": [
    "for pid in tqdm.tqdm(all_ids[56000:56300]):\n",
    "    try:\n",
    "        image_path = \"../../../full_data/images/\"+ \"P\"+ str(pid).zfill(6)+\".jpg\"\n",
    "        image = cv2.imread(image_path)\n",
    "        image_print = cv2.cvtColor(image, cv2. COLOR_BGR2RGB)\n",
    "        width = image.shape[1]\n",
    "        height = image.shape[0]\n",
    "\n",
    "        #if very high resolution image, then resize, run segmentation, save cutout, masks and resized image\n",
    "        if height>max_dim or width>max_dim:\n",
    "            image = resizeImage(image)\n",
    "            cv2.imwrite(\"../../../full_data/images/\"+ \"P\"+ str(pid).zfill(6)+\".jpg\", image)\n",
    "            image_print = cv2.cvtColor(image, cv2. COLOR_BGR2RGB)\n",
    "            masks = mask_generator.generate(image)\n",
    "            masks = sorted(masks, key = lambda d: d['area'], reverse = True)\n",
    "            topFive = masks[:5]\n",
    "            newFilePath = \"../../../full_data/segmented_mask_info_compressed/P\" + str(pid).zfill(6) +\".pkl\"\n",
    "            with open(newFilePath, 'wb') as f:\n",
    "                pickle.dump(topFive,f)\n",
    "            cutout = getFrontCutout(topFive, image)\n",
    "            cutout = cv2.cvtColor(cutout, cv2. COLOR_BGR2RGB)\n",
    "            cv2.imwrite(\"../../../full_data/segmented_images/\"+ \"P\"+ str(pid).zfill(6)+\".jpg\", cutout)\n",
    "\n",
    "        #if low resolution image, keep as it is\n",
    "#         elif height<=min_dim and width<=min_dim:\n",
    "#             continue\n",
    "\n",
    "#         #use existing masks, but get a new cutout\n",
    "#         else:\n",
    "\n",
    "#             masks_filepath = \"../../../full_data/segmented_mask_info_compressed/\"+ \"P\"+ str(pid).zfill(6)+\".pkl\"\n",
    "#             with open (masks_filepath, 'rb') as f:\n",
    "#                 masks = pickle.load(f)\n",
    "\n",
    "#             cutout = getFrontCutout(masks, image)\n",
    "#             cutout = cv2.cvtColor(cutout, cv2. COLOR_BGR2RGB)\n",
    "#             cv2.imwrite(\"../../../full_data/segmented_images/\"+ \"P\"+ str(pid).zfill(6)+\".jpg\", cutout)\n",
    "    except:\n",
    "        print(pid)"
   ]
  },
  {
   "cell_type": "code",
   "execution_count": null,
   "id": "1a4c338e",
   "metadata": {},
   "outputs": [],
   "source": []
  }
 ],
 "metadata": {
  "kernelspec": {
   "display_name": "Python 3 (ipykernel)",
   "language": "python",
   "name": "python3"
  },
  "language_info": {
   "codemirror_mode": {
    "name": "ipython",
    "version": 3
   },
   "file_extension": ".py",
   "mimetype": "text/x-python",
   "name": "python",
   "nbconvert_exporter": "python",
   "pygments_lexer": "ipython3",
   "version": "3.11.3"
  }
 },
 "nbformat": 4,
 "nbformat_minor": 5
}
