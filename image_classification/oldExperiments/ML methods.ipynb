{
 "cells": [
  {
   "cell_type": "code",
   "execution_count": 38,
   "id": "a7da8a67",
   "metadata": {},
   "outputs": [],
   "source": [
    "from sklearn.neighbors import KNeighborsClassifier\n",
    "import cv2\n",
    "import os\n",
    "import json\n",
    "import pandas as pd\n",
    "import numpy as np\n",
    "from sklearn.preprocessing import LabelEncoder\n",
    "from sklearn.decomposition import PCA\n",
    "from sklearn.metrics import accuracy_score\n",
    "import matplotlib.pyplot as plt\n",
    "import tqdm\n",
    "from random import shuffle"
   ]
  },
  {
   "cell_type": "code",
   "execution_count": 39,
   "id": "92f7c6a9",
   "metadata": {},
   "outputs": [
    {
     "name": "stdout",
     "output_type": "stream",
     "text": [
      "12527\n",
      "1283\n"
     ]
    }
   ],
   "source": [
    "with open (\"train_ids.json\", 'r') as f:\n",
    "    train_ids = json.load(f)\n",
    "with open (\"val_ids.json\", 'r') as f:\n",
    "    val_ids = json.load(f)\n",
    "\n",
    "    \n",
    "shuffle(train_ids)\n",
    "shuffle(val_ids)\n",
    "\n",
    "print(len(train_ids))\n",
    "print(len(val_ids))\n"
   ]
  },
  {
   "cell_type": "code",
   "execution_count": 3,
   "id": "66ba68a0",
   "metadata": {
    "scrolled": true
   },
   "outputs": [],
   "source": [
    "# # temp, remove those for which cutouts are not ready yet\n",
    "# to_remove_train = []\n",
    "# for pid in train_ids:\n",
    "#     image_name = \"P\"+ str(pid).zfill(6)+\".jpg\"\n",
    "#     if not os.path.isfile(\"data/train_images/\"+image_name):\n",
    "#         to_remove_train.append(pid)\n",
    "# print(len(to_remove_train))\n",
    "\n",
    "\n",
    "# to_remove_val = []\n",
    "# for pid in val_ids:\n",
    "#     image_name = \"P\"+ str(pid).zfill(6)+\".jpg\"\n",
    "#     if not os.path.isfile(\"data/val_images/\"+image_name):\n",
    "#         to_remove_val.append(pid)\n",
    "# print(len(to_remove_val))\n",
    "\n",
    "\n",
    "# train_ids = list(set(train_ids) - set(to_remove_train))\n",
    "# val_ids = list(set(val_ids) - set(to_remove_val))\n",
    "# print(len(train_ids))\n",
    "# print(len(val_ids))"
   ]
  },
  {
   "cell_type": "code",
   "execution_count": 40,
   "id": "0b1ca9a3",
   "metadata": {},
   "outputs": [
    {
     "name": "stderr",
     "output_type": "stream",
     "text": [
      "/tmp/ipykernel_65632/1658725802.py:1: DtypeWarning: Columns (4,5,45,46,62,64,68,69,70,71,73,76,77,78,79,80,81,83,84,88,90,91,93,94) have mixed types. Specify dtype option on import or set low_memory=False.\n",
      "  df = pd.read_csv('../full_data/expanded_catalogue.csv')\n"
     ]
    },
    {
     "name": "stdout",
     "output_type": "stream",
     "text": [
      "(133923, 99)\n"
     ]
    }
   ],
   "source": [
    "df = pd.read_csv('../full_data/expanded_catalogue.csv')  \n",
    "print(df.shape)\n",
    "\n"
   ]
  },
  {
   "cell_type": "code",
   "execution_count": 41,
   "id": "37454740",
   "metadata": {},
   "outputs": [
    {
     "name": "stderr",
     "output_type": "stream",
     "text": [
      "100%|████████████████████████████████████████████████████████████████████████████████████████████████████████████████████████████████████████████████████████████████████████| 12527/12527 [00:39<00:00, 315.84it/s]\n",
      "100%|██████████████████████████████████████████████████████████████████████████████████████████████████████████████████████████████████████████████████████████████████████████| 1283/1283 [00:07<00:00, 162.96it/s]\n"
     ]
    },
    {
     "name": "stdout",
     "output_type": "stream",
     "text": [
      "(12527, 64, 64, 3)\n",
      "(1283, 64, 64, 3)\n"
     ]
    }
   ],
   "source": [
    "# preprocess images and prepare labels\n",
    "# run resize once, next time read from train_images_resized and val_images_resized\n",
    "Y_train_label = [] # this has label name\n",
    "Y_val_label = []\n",
    "Y_train = [] # this has label value (encoded via Label Encoder)\n",
    "Y_val = []\n",
    "X_train = []\n",
    "X_val = []\n",
    "\n",
    "\n",
    "size = 64\n",
    "\n",
    "for pid in tqdm.tqdm(train_ids):\n",
    "    Y_train_label.append(df.loc[df['id'] ==pid]['period.period'].values[0])\n",
    "    image_name = \"P\"+ str(pid).zfill(6)+\".jpg\"\n",
    "    image = cv2.imread(\"data/train/\"+image_name)\n",
    "    image = cv2.resize(image, (size, size), interpolation = cv2.INTER_AREA)\n",
    "#     cv2.imwrite(\"train_images_resized/\"+image_name, image)\n",
    "    X_train.append(np.array(image))\n",
    "\n",
    "\n",
    "for pid in tqdm.tqdm(val_ids):\n",
    "    Y_val_label.append(df.loc[df['id'] ==pid]['period.period'].values[0])\n",
    "    image_name = \"P\"+ str(pid).zfill(6)+\".jpg\"\n",
    "    image = cv2.imread(\"data/val/\"+image_name)\n",
    "    image = cv2.resize(image, (size, size), interpolation = cv2.INTER_AREA)\n",
    "#     cv2.imwrite(\"val_images_resized/\"+image_name, image)\n",
    "    X_val.append(np.array(image))\n",
    "\n",
    "X_train = np.array(X_train)\n",
    "X_val = np.array(X_val)\n",
    "print(X_train.shape)\n",
    "print(X_val.shape)"
   ]
  },
  {
   "cell_type": "code",
   "execution_count": 42,
   "id": "11b72671",
   "metadata": {},
   "outputs": [],
   "source": [
    "del df"
   ]
  },
  {
   "cell_type": "code",
   "execution_count": 43,
   "id": "58001b04",
   "metadata": {},
   "outputs": [],
   "source": [
    "\n",
    "def flattenArray(images):\n",
    "    imgs = []\n",
    "    for img in images:\n",
    "        imgs.append(np.array(img).flatten())\n",
    "    return np.array(imgs)"
   ]
  },
  {
   "cell_type": "code",
   "execution_count": 44,
   "id": "c3e7036c",
   "metadata": {},
   "outputs": [],
   "source": [
    "Y_train = np.array(Y_train_label)\n",
    "le = LabelEncoder()\n",
    "Y_train = le.fit_transform(Y_train_label)\n",
    "Y_val = np.array(Y_val_label)\n",
    "Y_val = le.transform(Y_val)\n",
    "# le_name_mapping = dict(zip(le.classes_, le.transform(le.classes_)))\n",
    "# print(le_name_mapping)"
   ]
  },
  {
   "cell_type": "code",
   "execution_count": 9,
   "id": "c9fa1668",
   "metadata": {
    "scrolled": true
   },
   "outputs": [],
   "source": [
    "# from sklearn.decomposition import PCA, IncrementalPCA\n",
    "# flatX_train = flattenArray(X_train)\n",
    "# ipca = IncrementalPCA(copy=False, n_components=224, batch_size=10)\n",
    "# X_train_ipca = ipca.fit_transform(flatX_train)\n",
    "\n",
    "\n"
   ]
  },
  {
   "cell_type": "code",
   "execution_count": null,
   "id": "ddb3a468",
   "metadata": {},
   "outputs": [],
   "source": []
  },
  {
   "cell_type": "code",
   "execution_count": 45,
   "id": "33c35f0f",
   "metadata": {
    "scrolled": true
   },
   "outputs": [
    {
     "name": "stdout",
     "output_type": "stream",
     "text": [
      "(1283, 224)\n",
      "(12527, 224)\n"
     ]
    }
   ],
   "source": [
    "# change this to fit on train later\n",
    "pca = PCA(n_components = 224)\n",
    "X_train_pca = pca.fit_transform(flattenArray(X_train))\n",
    "X_val_pca = pca.transform(flattenArray(X_val))\n",
    "print(X_val_pca.shape)\n",
    "print(X_train_pca.shape)"
   ]
  },
  {
   "cell_type": "code",
   "execution_count": 46,
   "id": "fe74d964",
   "metadata": {
    "scrolled": true
   },
   "outputs": [
    {
     "data": {
      "text/html": [
       "<style>#sk-container-id-11 {color: black;background-color: white;}#sk-container-id-11 pre{padding: 0;}#sk-container-id-11 div.sk-toggleable {background-color: white;}#sk-container-id-11 label.sk-toggleable__label {cursor: pointer;display: block;width: 100%;margin-bottom: 0;padding: 0.3em;box-sizing: border-box;text-align: center;}#sk-container-id-11 label.sk-toggleable__label-arrow:before {content: \"▸\";float: left;margin-right: 0.25em;color: #696969;}#sk-container-id-11 label.sk-toggleable__label-arrow:hover:before {color: black;}#sk-container-id-11 div.sk-estimator:hover label.sk-toggleable__label-arrow:before {color: black;}#sk-container-id-11 div.sk-toggleable__content {max-height: 0;max-width: 0;overflow: hidden;text-align: left;background-color: #f0f8ff;}#sk-container-id-11 div.sk-toggleable__content pre {margin: 0.2em;color: black;border-radius: 0.25em;background-color: #f0f8ff;}#sk-container-id-11 input.sk-toggleable__control:checked~div.sk-toggleable__content {max-height: 200px;max-width: 100%;overflow: auto;}#sk-container-id-11 input.sk-toggleable__control:checked~label.sk-toggleable__label-arrow:before {content: \"▾\";}#sk-container-id-11 div.sk-estimator input.sk-toggleable__control:checked~label.sk-toggleable__label {background-color: #d4ebff;}#sk-container-id-11 div.sk-label input.sk-toggleable__control:checked~label.sk-toggleable__label {background-color: #d4ebff;}#sk-container-id-11 input.sk-hidden--visually {border: 0;clip: rect(1px 1px 1px 1px);clip: rect(1px, 1px, 1px, 1px);height: 1px;margin: -1px;overflow: hidden;padding: 0;position: absolute;width: 1px;}#sk-container-id-11 div.sk-estimator {font-family: monospace;background-color: #f0f8ff;border: 1px dotted black;border-radius: 0.25em;box-sizing: border-box;margin-bottom: 0.5em;}#sk-container-id-11 div.sk-estimator:hover {background-color: #d4ebff;}#sk-container-id-11 div.sk-parallel-item::after {content: \"\";width: 100%;border-bottom: 1px solid gray;flex-grow: 1;}#sk-container-id-11 div.sk-label:hover label.sk-toggleable__label {background-color: #d4ebff;}#sk-container-id-11 div.sk-serial::before {content: \"\";position: absolute;border-left: 1px solid gray;box-sizing: border-box;top: 0;bottom: 0;left: 50%;z-index: 0;}#sk-container-id-11 div.sk-serial {display: flex;flex-direction: column;align-items: center;background-color: white;padding-right: 0.2em;padding-left: 0.2em;position: relative;}#sk-container-id-11 div.sk-item {position: relative;z-index: 1;}#sk-container-id-11 div.sk-parallel {display: flex;align-items: stretch;justify-content: center;background-color: white;position: relative;}#sk-container-id-11 div.sk-item::before, #sk-container-id-11 div.sk-parallel-item::before {content: \"\";position: absolute;border-left: 1px solid gray;box-sizing: border-box;top: 0;bottom: 0;left: 50%;z-index: -1;}#sk-container-id-11 div.sk-parallel-item {display: flex;flex-direction: column;z-index: 1;position: relative;background-color: white;}#sk-container-id-11 div.sk-parallel-item:first-child::after {align-self: flex-end;width: 50%;}#sk-container-id-11 div.sk-parallel-item:last-child::after {align-self: flex-start;width: 50%;}#sk-container-id-11 div.sk-parallel-item:only-child::after {width: 0;}#sk-container-id-11 div.sk-dashed-wrapped {border: 1px dashed gray;margin: 0 0.4em 0.5em 0.4em;box-sizing: border-box;padding-bottom: 0.4em;background-color: white;}#sk-container-id-11 div.sk-label label {font-family: monospace;font-weight: bold;display: inline-block;line-height: 1.2em;}#sk-container-id-11 div.sk-label-container {text-align: center;}#sk-container-id-11 div.sk-container {/* jupyter's `normalize.less` sets `[hidden] { display: none; }` but bootstrap.min.css set `[hidden] { display: none !important; }` so we also need the `!important` here to be able to override the default hidden behavior on the sphinx rendered scikit-learn.org. See: https://github.com/scikit-learn/scikit-learn/issues/21755 */display: inline-block !important;position: relative;}#sk-container-id-11 div.sk-text-repr-fallback {display: none;}</style><div id=\"sk-container-id-11\" class=\"sk-top-container\"><div class=\"sk-text-repr-fallback\"><pre>KNeighborsClassifier(n_neighbors=8)</pre><b>In a Jupyter environment, please rerun this cell to show the HTML representation or trust the notebook. <br />On GitHub, the HTML representation is unable to render, please try loading this page with nbviewer.org.</b></div><div class=\"sk-container\" hidden><div class=\"sk-item\"><div class=\"sk-estimator sk-toggleable\"><input class=\"sk-toggleable__control sk-hidden--visually\" id=\"sk-estimator-id-11\" type=\"checkbox\" checked><label for=\"sk-estimator-id-11\" class=\"sk-toggleable__label sk-toggleable__label-arrow\">KNeighborsClassifier</label><div class=\"sk-toggleable__content\"><pre>KNeighborsClassifier(n_neighbors=8)</pre></div></div></div></div></div>"
      ],
      "text/plain": [
       "KNeighborsClassifier(n_neighbors=8)"
      ]
     },
     "execution_count": 46,
     "metadata": {},
     "output_type": "execute_result"
    }
   ],
   "source": [
    "# change this to fit on train later\n",
    "knn = KNeighborsClassifier(n_neighbors=8)\n",
    "knn.fit(X_train_pca, Y_train)"
   ]
  },
  {
   "cell_type": "code",
   "execution_count": 47,
   "id": "e4b2a312",
   "metadata": {},
   "outputs": [
    {
     "name": "stdout",
     "output_type": "stream",
     "text": [
      "0.4610042308613395 0.2618862042088854\n"
     ]
    }
   ],
   "source": [
    "\n",
    "Y_predicted_train = knn.predict(X_train_pca)\n",
    "acc_train = accuracy_score(Y_train, Y_predicted_train)\n",
    "Y_predicted_val = knn.predict(X_val_pca)\n",
    "acc_val = accuracy_score(Y_val, Y_predicted_val)\n",
    "print(acc_train, acc_val )"
   ]
  },
  {
   "cell_type": "code",
   "execution_count": 48,
   "id": "bf2ae452",
   "metadata": {},
   "outputs": [
    {
     "data": {
      "text/plain": [
       "array([[ 69,   3,  26,   3,   6,   4,   2,  12,  20,   0,  10,  12,  21,\n",
       "          7,   7,   5,   5,   0],\n",
       "       [  4, 130, 103,  14,  23,   8,   2,   7,  10,   2,  12,  20,   8,\n",
       "          9,   6,  18,   7,   1],\n",
       "       [  6,  21, 727,  27,  27,  14,   0,  10,  23,   9,  50,  24,  12,\n",
       "         16,  17,   8,   9,   0],\n",
       "       [  4,  14,  52, 614,   5,  45,  11,   8,   8,   4,  22,  54,  29,\n",
       "         13, 108,   6,   3,   0],\n",
       "       [  5,  21, 111,  20, 306,   6,   1,   3,  10,   1,  11,   8,   7,\n",
       "         12,   6,   6,   5,   1],\n",
       "       [  7,  10,  58,  51,  12, 384,   1,   8,   6,   6,  16,  27,   7,\n",
       "          9,  17,   6,   5,   0],\n",
       "       [  4,   1,  14,  10,   3,   1,  58,   1,   6,   1,   5,  43,   4,\n",
       "          5,  11,   0,   1,   0],\n",
       "       [  5,   2,  40,  10,   3,   1,   7, 132,  13,   1,  26,  63,  12,\n",
       "          8,  19,   2,   3,   0],\n",
       "       [ 30,  22,  97,  51,  17,  19,   9,  63, 414,  10,  29,  93,  48,\n",
       "         62,  17,  11,   8,   0],\n",
       "       [  2,   4,  16,  15,   5,   6,   0,   7,  14,  22,   7,  17,   7,\n",
       "          6,   8,   2,   2,   0],\n",
       "       [  9,  22, 155,  54,  30,  21,   2,  30,  19,   6, 412,  94,  24,\n",
       "         32,  63,  20,   7,   0],\n",
       "       [  6,   9,  51,  44,   7,  10,   9,  25,  18,   2,  35, 672,  13,\n",
       "         27,  66,   2,   4,   0],\n",
       "       [ 13,  19, 112, 103,  10,  24,  21,  33,  32,   2,  50, 102, 329,\n",
       "         24, 109,   8,   7,   2],\n",
       "       [  9,  20,  79,  80,   7,  25,  14,  54,  29,   9,  60, 157,  49,\n",
       "        346,  52,   5,   5,   0],\n",
       "       [  1,   9,  75,  79,   6,   6,  21,  22,   5,   1,  48, 139,  24,\n",
       "         17, 542,   4,   1,   0],\n",
       "       [ 11,  41, 103,  40, 129,  12,   0,  20,  28,  10,  57,  52,  21,\n",
       "         47,  24, 326,  79,   0],\n",
       "       [  7,  48,  91,  37,  79,  19,   1,  16,  35,   7,  53,  72,  25,\n",
       "         59,  42, 123, 284,   2],\n",
       "       [  2,   4,  11,   6,  20,   4,   1,   2,   2,   1,   4,  10,   3,\n",
       "          6,   3,   4,  15,   8]])"
      ]
     },
     "execution_count": 48,
     "metadata": {},
     "output_type": "execute_result"
    }
   ],
   "source": [
    "from sklearn.metrics import confusion_matrix\n",
    "confusion_matrix(Y_train, Y_predicted_train)"
   ]
  },
  {
   "cell_type": "code",
   "execution_count": 49,
   "id": "a822b3dd",
   "metadata": {},
   "outputs": [
    {
     "data": {
      "text/html": [
       "<style>#sk-container-id-12 {color: black;background-color: white;}#sk-container-id-12 pre{padding: 0;}#sk-container-id-12 div.sk-toggleable {background-color: white;}#sk-container-id-12 label.sk-toggleable__label {cursor: pointer;display: block;width: 100%;margin-bottom: 0;padding: 0.3em;box-sizing: border-box;text-align: center;}#sk-container-id-12 label.sk-toggleable__label-arrow:before {content: \"▸\";float: left;margin-right: 0.25em;color: #696969;}#sk-container-id-12 label.sk-toggleable__label-arrow:hover:before {color: black;}#sk-container-id-12 div.sk-estimator:hover label.sk-toggleable__label-arrow:before {color: black;}#sk-container-id-12 div.sk-toggleable__content {max-height: 0;max-width: 0;overflow: hidden;text-align: left;background-color: #f0f8ff;}#sk-container-id-12 div.sk-toggleable__content pre {margin: 0.2em;color: black;border-radius: 0.25em;background-color: #f0f8ff;}#sk-container-id-12 input.sk-toggleable__control:checked~div.sk-toggleable__content {max-height: 200px;max-width: 100%;overflow: auto;}#sk-container-id-12 input.sk-toggleable__control:checked~label.sk-toggleable__label-arrow:before {content: \"▾\";}#sk-container-id-12 div.sk-estimator input.sk-toggleable__control:checked~label.sk-toggleable__label {background-color: #d4ebff;}#sk-container-id-12 div.sk-label input.sk-toggleable__control:checked~label.sk-toggleable__label {background-color: #d4ebff;}#sk-container-id-12 input.sk-hidden--visually {border: 0;clip: rect(1px 1px 1px 1px);clip: rect(1px, 1px, 1px, 1px);height: 1px;margin: -1px;overflow: hidden;padding: 0;position: absolute;width: 1px;}#sk-container-id-12 div.sk-estimator {font-family: monospace;background-color: #f0f8ff;border: 1px dotted black;border-radius: 0.25em;box-sizing: border-box;margin-bottom: 0.5em;}#sk-container-id-12 div.sk-estimator:hover {background-color: #d4ebff;}#sk-container-id-12 div.sk-parallel-item::after {content: \"\";width: 100%;border-bottom: 1px solid gray;flex-grow: 1;}#sk-container-id-12 div.sk-label:hover label.sk-toggleable__label {background-color: #d4ebff;}#sk-container-id-12 div.sk-serial::before {content: \"\";position: absolute;border-left: 1px solid gray;box-sizing: border-box;top: 0;bottom: 0;left: 50%;z-index: 0;}#sk-container-id-12 div.sk-serial {display: flex;flex-direction: column;align-items: center;background-color: white;padding-right: 0.2em;padding-left: 0.2em;position: relative;}#sk-container-id-12 div.sk-item {position: relative;z-index: 1;}#sk-container-id-12 div.sk-parallel {display: flex;align-items: stretch;justify-content: center;background-color: white;position: relative;}#sk-container-id-12 div.sk-item::before, #sk-container-id-12 div.sk-parallel-item::before {content: \"\";position: absolute;border-left: 1px solid gray;box-sizing: border-box;top: 0;bottom: 0;left: 50%;z-index: -1;}#sk-container-id-12 div.sk-parallel-item {display: flex;flex-direction: column;z-index: 1;position: relative;background-color: white;}#sk-container-id-12 div.sk-parallel-item:first-child::after {align-self: flex-end;width: 50%;}#sk-container-id-12 div.sk-parallel-item:last-child::after {align-self: flex-start;width: 50%;}#sk-container-id-12 div.sk-parallel-item:only-child::after {width: 0;}#sk-container-id-12 div.sk-dashed-wrapped {border: 1px dashed gray;margin: 0 0.4em 0.5em 0.4em;box-sizing: border-box;padding-bottom: 0.4em;background-color: white;}#sk-container-id-12 div.sk-label label {font-family: monospace;font-weight: bold;display: inline-block;line-height: 1.2em;}#sk-container-id-12 div.sk-label-container {text-align: center;}#sk-container-id-12 div.sk-container {/* jupyter's `normalize.less` sets `[hidden] { display: none; }` but bootstrap.min.css set `[hidden] { display: none !important; }` so we also need the `!important` here to be able to override the default hidden behavior on the sphinx rendered scikit-learn.org. See: https://github.com/scikit-learn/scikit-learn/issues/21755 */display: inline-block !important;position: relative;}#sk-container-id-12 div.sk-text-repr-fallback {display: none;}</style><div id=\"sk-container-id-12\" class=\"sk-top-container\"><div class=\"sk-text-repr-fallback\"><pre>RandomForestClassifier(max_depth=15, random_state=0)</pre><b>In a Jupyter environment, please rerun this cell to show the HTML representation or trust the notebook. <br />On GitHub, the HTML representation is unable to render, please try loading this page with nbviewer.org.</b></div><div class=\"sk-container\" hidden><div class=\"sk-item\"><div class=\"sk-estimator sk-toggleable\"><input class=\"sk-toggleable__control sk-hidden--visually\" id=\"sk-estimator-id-12\" type=\"checkbox\" checked><label for=\"sk-estimator-id-12\" class=\"sk-toggleable__label sk-toggleable__label-arrow\">RandomForestClassifier</label><div class=\"sk-toggleable__content\"><pre>RandomForestClassifier(max_depth=15, random_state=0)</pre></div></div></div></div></div>"
      ],
      "text/plain": [
       "RandomForestClassifier(max_depth=15, random_state=0)"
      ]
     },
     "execution_count": 49,
     "metadata": {},
     "output_type": "execute_result"
    }
   ],
   "source": [
    "from sklearn.ensemble import RandomForestClassifier\n",
    "clf = RandomForestClassifier(max_depth=15, random_state=0)\n",
    "clf.fit(X_train_pca, Y_train)"
   ]
  },
  {
   "cell_type": "code",
   "execution_count": 50,
   "id": "cf97c10e",
   "metadata": {},
   "outputs": [
    {
     "name": "stdout",
     "output_type": "stream",
     "text": [
      "0.9329448391474415 0.3047544816835542\n"
     ]
    }
   ],
   "source": [
    "\n",
    "Y_predicted_train = clf.predict(X_train_pca)\n",
    "acc_train = accuracy_score(Y_train, Y_predicted_train)\n",
    "Y_predicted_val = clf.predict(X_val_pca)\n",
    "acc_val = accuracy_score(Y_val, Y_predicted_val)\n",
    "print(acc_train, acc_val )"
   ]
  },
  {
   "cell_type": "code",
   "execution_count": 33,
   "id": "47b30571",
   "metadata": {},
   "outputs": [
    {
     "data": {
      "text/plain": [
       "array([14,  2, 14, ...,  9, 17, 15], dtype=int32)"
      ]
     },
     "execution_count": 33,
     "metadata": {},
     "output_type": "execute_result"
    }
   ],
   "source": [
    "from sklearn.cluster import KMeans\n",
    "\n",
    "kmeans = KMeans(n_clusters=18, random_state=0, n_init=\"auto\").fit(X_train_pca)\n",
    "Y_kmeans_train = kmeans.predict(X_train_pca)\n",
    "Y_kmeans_val = kmeans.predict(X_val_pca)\n",
    "Y_kmeans_val"
   ]
  },
  {
   "cell_type": "code",
   "execution_count": 52,
   "id": "4d20d699",
   "metadata": {},
   "outputs": [
    {
     "data": {
      "text/plain": [
       "array([13, 16, 13, ..., 12, 14, 12])"
      ]
     },
     "execution_count": 52,
     "metadata": {},
     "output_type": "execute_result"
    }
   ],
   "source": [
    "Y_val"
   ]
  },
  {
   "cell_type": "code",
   "execution_count": null,
   "id": "5dd25175",
   "metadata": {},
   "outputs": [],
   "source": [
    "from sklearn.svm import SVC\n",
    "\n",
    "svc = SVC(kernel='linear',gamma='auto')\n",
    "svc.fit(X_train_pca, Y_train)"
   ]
  },
  {
   "cell_type": "code",
   "execution_count": null,
   "id": "ae100143",
   "metadata": {},
   "outputs": [],
   "source": [
    "\n",
    "Y_predicted_train = knn.predict(X_train_pca)\n",
    "acc_train = accuracy_score(Y_train, Y_predicted_train)\n",
    "Y_predicted_val = knn.predict(X_val_pca)\n",
    "acc_val = accuracy_score(Y_val, Y_predicted_val)\n",
    "print(acc_train, acc_val )"
   ]
  },
  {
   "cell_type": "code",
   "execution_count": null,
   "id": "d587f29e",
   "metadata": {},
   "outputs": [],
   "source": []
  },
  {
   "cell_type": "code",
   "execution_count": null,
   "id": "ee6a7b33",
   "metadata": {},
   "outputs": [],
   "source": []
  }
 ],
 "metadata": {
  "kernelspec": {
   "display_name": "Python 3 (ipykernel)",
   "language": "python",
   "name": "python3"
  },
  "language_info": {
   "codemirror_mode": {
    "name": "ipython",
    "version": 3
   },
   "file_extension": ".py",
   "mimetype": "text/x-python",
   "name": "python",
   "nbconvert_exporter": "python",
   "pygments_lexer": "ipython3",
   "version": "3.11.3"
  }
 },
 "nbformat": 4,
 "nbformat_minor": 5
}
